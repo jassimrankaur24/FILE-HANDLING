{
  "nbformat": 4,
  "nbformat_minor": 0,
  "metadata": {
    "colab": {
      "provenance": []
    },
    "kernelspec": {
      "name": "python3",
      "display_name": "Python 3"
    },
    "language_info": {
      "name": "python"
    }
  },
  "cells": [
    {
      "cell_type": "code",
      "execution_count": null,
      "metadata": {
        "id": "u1cO_pEHqskh"
      },
      "outputs": [],
      "source": []
    },
    {
      "cell_type": "code",
      "source": [],
      "metadata": {
        "id": "CawXFLb8FpPn"
      },
      "execution_count": null,
      "outputs": []
    },
    {
      "cell_type": "markdown",
      "source": [
        "Q1. What is the difference between interpreted and complled languages ?       \n",
        "A1.  Compiled language     \n",
        "  - Translate the whole code into machine code before execution       \n",
        "  - faster at runtime needs compilation step     \n",
        "  Example- C,c++,Go              \n",
        "\n",
        "  Interpreted language      \n",
        "  -  Executes code line-by-line using an interpreter       \n",
        "  -  Slower at runtime, easier to test/debug          \n",
        "  Examples Python, Javascript              \n",
        "\n",
        "Q2. What is exception handling in python ?        \n",
        "A2. Exception handling in python is a way to manage errors that occurs during program execution, so the program dosen't crash             \n",
        "\n",
        "Q3. What is purpose of finally block in exceptional handling ?       \n",
        "A3. The purpose of finally block in exceptional handling is to define code that always run , no matter what whether an exception was raised or not      \n",
        "\n",
        "Q4. What is logging in python ?     \n",
        "A4. Logging in python is the process of recording messages ( like errors, warning, or info) while a program runs                   \n",
        "\n",
        "Q5. What is significance of the __ del __ method in python ?      \n",
        "A5. the __ del __ method in python is a destructor it is called automatically when an object is about to be destroyed        \n",
        "\n",
        "Q6. What is difference between import and from _import in python ?     \n",
        "A6. Import\n",
        " - Imports the whole module use with prefix    \n",
        "   Example- math.sqrt(16)        \n",
        "\n",
        "     _import     \n",
        "- imports specific part use directly  \n",
        "    Example sqrt(16)        \n",
        "\n",
        "Q7. How can u handle multiple exceptions in python ?      \n",
        "A7. we can handle multiple exceptions in python by using multiple exept blocks or a tuple          \n",
        "\n",
        "Q8. what is purpose of the with statement when handling files in python ?    \n",
        "A8. The with statement ensures proper opening and closing of files, even if errors occurs             \n",
        "\n",
        "Q9. What is difference between multithreading and multiprocessing ?     \n",
        "A9. MULTITHREADING    \n",
        "- runs multiple threads in one process   \n",
        "- shared memory   \n",
        "- faster for I/O-bpund tasks   \n",
        "- one thread crash may affect others       \n",
        "- Example file I/O, network operations     \n",
        "\n",
        "  MULTIPROCESSING\n",
        "- Runs multiple processess (independent memory )     \n",
        "- Seperate memory    \n",
        "- Better for CPU-bound tasks     \n",
        "- Each process is isolated    \n",
        "- Example heavy computations     \n",
        "\n",
        "\n",
        "Q10. What are the advantages of using logging in a program ?    \n",
        "A10. Advantages of using logging in programm are\n",
        "- Tracks programm flow\n",
        "- helps in debugging\n",
        "- records errors\n",
        "- saves logs for review   \n",
        "- more flexible than print()       \n",
        "\n",
        "\n",
        "Q11. What is memory management in python ?     \n",
        "A11. Memory management in python is the process of allocating and freeing memory during programm execution         \n",
        "\n",
        "Q12. What are the basic steps involved in exeption handling in python ?   \n",
        "A12.- STEP 1             \n",
        "     write a code that might raise an exeption     \n",
        "   -  STEP 2                         \n",
        "    handle the exeption if it occurs       \n",
        "   -  STEP 3               \n",
        "     run code if no exception occurs  \n",
        "   -  STEP 4      \n",
        "    run code no matter what (for cleanup )           \n",
        "\n",
        "\n",
        "Q13. Why is memory management important in python ?        \n",
        "A13. memory management is important in python because:\n",
        "- prevent memory leaks\n",
        "- optimize performance         \n",
        "- ensure efficient use of resources      \n",
        "- automatically clean up unused objects         \n",
        "\n",
        "Q14. What is the role of try and except in exception handling ?      \n",
        "A14. Role of try is that it contains code that may cause an exception\n",
        " role for except is that it handles errors if one occurs       \n",
        " PURPOSE       \n",
        "- Prevent program crashing       \n",
        "- Handles errors gracefully     \n",
        "- Maintain smooth programm flow         \n",
        "\n",
        "\n",
        "Q15. How does python's garbage system works ?       \n",
        "A15. Python's garbage collector automatically frees memory by removing unreferenced or cyclic objects using reference counting and generational GC     \n",
        "\n",
        "\n",
        "Q16. What is purpose of the else block in exception handling ?    \n",
        "A16. the else block runs only if no exception occurs in the try block      \n",
        "it is used to place code that should run only when try is successful      \n",
        "\n",
        "\n",
        "Q17. What are the common logging levels in python ?     \n",
        "A17. Common logging methods in python are:\n",
        "    1. DEBUG    \n",
        "    detailed information for debugging     \n",
        "    2. INFO        \n",
        "    general information about program execution    \n",
        "    3. WARNING    \n",
        "    indicates a potential issue or unexpected event     \n",
        "    4. ERROR     \n",
        "    A serious issue;program can still run      \n",
        "    5. CRITICAL      \n",
        "    very serious error; program may not continue      \n",
        "\n",
        "Q18. What are difference between os.fork() and multiprocessing in python ?    \n",
        "A18. os.fork()   \n",
        "   - low level, manual process management\n",
        "   - more complex and errorprone      \n",
        "   - just creates a child process     \n",
        "   - requires careful resource handling           \n",
        "\n",
        "   multiprocessing module   \n",
        "  - High level API for creating processes   \n",
        "  - Cleaner and easier to manage   \n",
        "  - provides queues, pipes, pipes etc.\n",
        "  - safer and more structured            \n",
        "\n",
        "\n",
        "Q19. What is the importance of closing a file in python ?      \n",
        "A19. Importance of closing a file in python are:  \n",
        "   - frees system resources        \n",
        "   - ensures data is written to disk (flushes buffer )        \n",
        "   - prevents file corruption       \n",
        "   - allows other programs to access the file                  \n",
        "\n",
        "\n",
        "Q20. What is difference between file.read() and file.readline() in python ?     \n",
        "A20. file.read() reads entire file as a single string      \n",
        "    file.readline() reads one line from the file at a time      \n",
        "\n",
        "\n",
        "Q21. What is the logging module in python used for ?     \n",
        "A21. The logging module in python is used for:\n",
        "   - record messages about a program's execution    \n",
        "   - track events, errors, and warnings      \n",
        "   - help with debugging and monitoring        \n",
        "   - store logs to console or files          \n",
        "\n",
        "Q22. Wat is the os module in python used for in file handling ?      \n",
        "A22. The os module is used for:\n",
        "- Interact with the file system        \n",
        "- create, delete, rename, move files/directories     \n",
        "- get file properties (size, path, etc.)           \n",
        "\n",
        "\n",
        "Q23. What are the challenges associated with memory management in python ?    \n",
        "A23. Challengees of memory management in python:\n",
        "- garbage collection overhead - Can cause performance lags     \n",
        "- memory leaks - from lingering references or circular refrences      \n",
        "- high memory usage - python objects can be memory heavy     \n",
        "- manual control is limited - developers rely on python's automatic system  \n",
        "- circular references - not always cleaned up by reference counting alone       \n",
        "\n",
        "\n",
        "Q24. How do you raise an exception manually in python  ?     \n",
        "A24. use raise followed by an exeption type to trigger an error intentionally\n",
        "Example: raise  valueError(\"invalid input\")        \n",
        "\n",
        "\n",
        "\n",
        "Q25. Why is it important to use multithreading in certain applications ?   \n",
        "A25. Importance of multithreading in certain applications are:  \n",
        "- improves performance for I/O-bound tasks\n",
        "- Allows concurrent execution, keeping the app responsive     \n",
        "- Efficient resources use by sharing memory between threads     \n",
        "- faster execution when waiting on slow operations           \n",
        "\n",
        "\n",
        "\n",
        "\n",
        "\n",
        "\n",
        "\n",
        "\n",
        "\n",
        "     "
      ],
      "metadata": {
        "id": "hHS5rhdiq1G0"
      }
    },
    {
      "cell_type": "code",
      "source": [
        "#1 How can you open a file for writing in python and write a string to it ?\n",
        "with open(\"example.txt\", \"w\") as file:\n",
        "file.write(\"Hello, world!.\")\n",
        "print(\"The message was written to the 'example.txt'. \")\n"
      ],
      "metadata": {
        "colab": {
          "base_uri": "https://localhost:8080/",
          "height": 111
        },
        "id": "NTs-0NAjK-Dz",
        "outputId": "a63d5f38-dec7-4409-9ccc-d40e76cccaa9"
      },
      "execution_count": null,
      "outputs": [
        {
          "output_type": "error",
          "ename": "IndentationError",
          "evalue": "expected an indented block after 'with' statement on line 2 (<ipython-input-16-b9aa625e0c4f>, line 3)",
          "traceback": [
            "\u001b[0;36m  File \u001b[0;32m\"<ipython-input-16-b9aa625e0c4f>\"\u001b[0;36m, line \u001b[0;32m3\u001b[0m\n\u001b[0;31m    file.write(\"Hello, world!.\")\u001b[0m\n\u001b[0m    ^\u001b[0m\n\u001b[0;31mIndentationError\u001b[0m\u001b[0;31m:\u001b[0m expected an indented block after 'with' statement on line 2\n"
          ]
        }
      ]
    },
    {
      "cell_type": "code",
      "source": [
        "#2 Write a python program to read the contents of a file and print each line\n",
        "with open(\"welcome.txt\", \"w\") as file:\n",
        "      file.write(\"Hello!\\n\")\n",
        "      file.write(\"welcome to python. \\n\")\n",
        "      file.write(\"file handling is easy. \\n\")\n",
        "\n",
        "with open(\"welcome.txt\", \"r\") as file:\n",
        "      for line in file:\n",
        "        print(line.strip())\n"
      ],
      "metadata": {
        "colab": {
          "base_uri": "https://localhost:8080/"
        },
        "id": "I6jc_7d7NfKo",
        "outputId": "51ec3cd2-df23-4b57-a952-2876f6fb23d8"
      },
      "execution_count": null,
      "outputs": [
        {
          "output_type": "stream",
          "name": "stdout",
          "text": [
            "Hello!\n",
            "welcome to python.\n",
            "file handling is easy.\n"
          ]
        }
      ]
    },
    {
      "cell_type": "code",
      "source": [
        "#3 How would you handle a case where the file dosen't exist while trying to open it for reading ?\n",
        "filename= 'data.txt'\n",
        "try:\n",
        "    with open(filename, 'r') as file:\n",
        "        content = file.read()\n",
        "        print(content)\n",
        "except FileNotFoundError:\n",
        "    print(f\"The file '{filename}' does not exist.\")\n"
      ],
      "metadata": {
        "colab": {
          "base_uri": "https://localhost:8080/"
        },
        "id": "gRu-OOVTRZlx",
        "outputId": "e6d52b9a-5d8e-414b-d698-3a3334c290a0"
      },
      "execution_count": null,
      "outputs": [
        {
          "output_type": "stream",
          "name": "stdout",
          "text": [
            "The file 'data.txt' does not exist.\n"
          ]
        }
      ]
    },
    {
      "cell_type": "code",
      "source": [
        "#4 Write a python script that reads from one file and writes its content to another file\n",
        "source_file = 'source.txt'\n",
        "destination_file = 'destination.txt'\n",
        "\n",
        "with open(source_file, 'w') as src:\n",
        "  src.write(\"this is the source file. \\n\")\n",
        "  src.write(\"it contains multiple lines of text. \\n\")\n",
        "  src.write(\"python is reading this and writing to another file. \\n\")\n",
        "try:\n",
        "    with open(source_file, 'r') as src:\n",
        "      content = src.read()\n",
        "      with open(destination_file, 'w') as dest:\n",
        "        print(f\"content copied from '{source_file}' to'{destination_file}' successfully.\")\n",
        "except filenotfounderror:\n",
        "          print(f\"Error:the file'{source_file}' was not found. \")\n",
        "except Exception as e:\n",
        "            print(f\"An error occurred: {e}\")"
      ],
      "metadata": {
        "colab": {
          "base_uri": "https://localhost:8080/"
        },
        "id": "23ctzw-lTK8q",
        "outputId": "7d9124cb-12ac-4507-93e8-ca67e534b282"
      },
      "execution_count": null,
      "outputs": [
        {
          "output_type": "stream",
          "name": "stdout",
          "text": [
            "content copied from 'source.txt' to'destination.txt' successfully.\n"
          ]
        }
      ]
    },
    {
      "cell_type": "code",
      "source": [
        "#5 How would you catch and handle division by zero error in python ?\n",
        "def divide_numbers(a,b):\n",
        "  try:\n",
        "    result = a / b\n",
        "    print(f\"Result: {result}\")\n",
        "  except ZeroDivisionError as e:\n",
        "    print(\"Error: cannot divide by zero!\")\n",
        "    print(\"exception message:\", str(e))\n",
        "\n",
        "\n",
        "\n",
        "print(\"Example 1: 10/2\")\n",
        "divide_numbers(10,2)\n",
        "print(\"\\nexample 2: 10/0\")\n",
        "divide_numbers(10,0)"
      ],
      "metadata": {
        "colab": {
          "base_uri": "https://localhost:8080/"
        },
        "id": "fnhNM9YFWznk",
        "outputId": "336e7f34-5a62-4e4b-ee88-3adfedb7f7ff"
      },
      "execution_count": null,
      "outputs": [
        {
          "output_type": "stream",
          "name": "stdout",
          "text": [
            "Example 1: 10/2\n",
            "Result: 5.0\n",
            "\n",
            "example 2: 10/0\n",
            "Error: cannot divide by zero!\n",
            "exception message: division by zero\n"
          ]
        }
      ]
    },
    {
      "cell_type": "markdown",
      "source": [
        "\n"
      ],
      "metadata": {
        "id": "5Vv9jhXZFyeu"
      }
    },
    {
      "cell_type": "code",
      "source": [
        "#6 Write a python program that logs an error message to a log file when a division by zero exception occurs\n",
        "import logging\n",
        "logging.basicConfig(filename='error_log.txt', level=logging.ERROR,format='%(asctime)s - %(levelname)s - %(message)s')\n",
        "def divide(a, b):\n",
        "  try:\n",
        "    result = a / b\n",
        "    print(f\"result: {result}\")\n",
        "  except ZeroDivisionError as e:\n",
        "      print(\"Error: Division by zero is not allowed. \")\n",
        "      logging.error(\"Exception message: %s\", str(e))\n",
        "print(\"Example 1: 20 / 5\")\n",
        "divide(20,5)\n",
        "print(\"\\nExample 2: 10 / 0\")\n",
        "divide(10,0)\n",
        "print(\"\\nExample 3: 7 / 0\")\n",
        "divide(7,0)"
      ],
      "metadata": {
        "colab": {
          "base_uri": "https://localhost:8080/"
        },
        "id": "S762GzePZ64T",
        "outputId": "af041f75-392f-4f08-d06a-35ee27bd9aa2"
      },
      "execution_count": null,
      "outputs": [
        {
          "output_type": "stream",
          "name": "stderr",
          "text": [
            "ERROR:root:Exception message: division by zero\n",
            "ERROR:root:Exception message: division by zero\n"
          ]
        },
        {
          "output_type": "stream",
          "name": "stdout",
          "text": [
            "Example 1: 20 / 5\n",
            "result: 4.0\n",
            "\n",
            "Example 2: 10 / 0\n",
            "Error: Division by zero is not allowed. \n",
            "\n",
            "Example 3: 7 / 0\n",
            "Error: Division by zero is not allowed. \n"
          ]
        }
      ]
    },
    {
      "cell_type": "code",
      "source": [
        "#7 How do you log information at different levels (INFO, ERROR, WARNING) in python using the logging module ?\n",
        "import logging\n",
        "logging.basicConfig(filename='app_log.txt',level=logging.DEBUG,format='%(asctime)s - %(levelname)s - %(message)s')\n",
        "console = logging.StreamHandler()\n",
        "console.setLevel(logging.DEBUG)\n",
        "formatter = logging.Formatter('%(levelname)s: %(message)s')\n",
        "console.setFormatter(formatter)\n",
        "logging.getLogger('').addHandler(console)\n",
        "def perform_operations(a,b):\n",
        "    logging.debug(\"starting perform_operations with a=%d and b=%d\", a,b)\n",
        "    if b == 0:\n",
        "      logging.warning(\"you are trying to divide by zero. This may raise an error.\")\n",
        "    try:\n",
        "        result = a / b\n",
        "        logging.info(\"Division result: %.2f,result\")\n",
        "    except ZeroDivisionError as e:\n",
        "      logging.error(\"Division by zero error: %s\", str(e))\n",
        "    logging.debug(\"Finished perform_operations\")\n",
        "\n",
        "perform_operations(10,2)\n",
        "perform_operations(10,0)\n"
      ],
      "metadata": {
        "colab": {
          "base_uri": "https://localhost:8080/"
        },
        "id": "NGLD-Zp9d0Sr",
        "outputId": "e8f30325-c2e0-4ec2-e380-fd62c04da856"
      },
      "execution_count": null,
      "outputs": [
        {
          "output_type": "stream",
          "name": "stderr",
          "text": [
            "WARNING:root:you are trying to divide by zero. This may raise an error.\n",
            "WARNING: you are trying to divide by zero. This may raise an error.\n",
            "ERROR:root:Division by zero error: division by zero\n",
            "ERROR: Division by zero error: division by zero\n"
          ]
        }
      ]
    },
    {
      "cell_type": "code",
      "source": [
        "#8 Write a program to handle a file opening error using exception handling\n",
        "def read_file(file_name):\n",
        "  try:\n",
        "    with open(file_name, 'r') as file:\n",
        "         content = file.read()\n",
        "         print(\"File content:\")\n",
        "         print(content)\n",
        "  except FileNotFoundError:\n",
        "    print(f\"Error: The file '{file_name}' does not exist.\")\n",
        "  except Exception as e:\n",
        "    print (f\"An unexpected error occurred: {e}\")\n",
        "\n",
        "print(\"Trying to read 'missing_file.txt':\")\n",
        "read_file(\"missing_file.txt\")\n",
        "print(\"\\nCreating and reading 'sample.txt':\")\n",
        "with open(\"sample.txt\", 'w') as file:\n",
        "  file.write(\"Hello! This is a sample file. \\nIt contains multiple lines. \\nEnjoy reading!\")\n",
        "read_file(\"sample.txt\")"
      ],
      "metadata": {
        "colab": {
          "base_uri": "https://localhost:8080/"
        },
        "id": "Qej2NxRWjfST",
        "outputId": "80be063e-d004-4568-bb57-0efe4c5ca84a"
      },
      "execution_count": null,
      "outputs": [
        {
          "output_type": "stream",
          "name": "stdout",
          "text": [
            "Trying to read 'missing_file.txt':\n",
            "Error: The file 'missing_file.txt' does not exist.\n",
            "\n",
            "Creating and reading 'sample.txt':\n",
            "File content:\n",
            "Hello! This is a sample file. \n",
            "It contains multiple lines. \n",
            "Enjoy reading!\n"
          ]
        }
      ]
    },
    {
      "cell_type": "code",
      "source": [
        "#9 How can you read a file line by line and store its content in a list in python ?\n",
        "def read_file_to_list(filename):\n",
        "    lines = []\n",
        "    try:\n",
        "        with open (filename, 'r') as file:\n",
        "          for line in file:\n",
        "              lines.append(line.strip())\n",
        "        return lines\n",
        "    except FileNotFoundError:\n",
        "       print(f\"Error: File '{filename}' not founf.\")\n",
        "       return[]\n",
        "file_name = \"example.txt\"\n",
        "with open(file_name, 'w') as f:\n",
        "     f.write(\"Hii everyone!\\n\")\n",
        "     f.write(\"How are you guyzz\\n\")\n",
        "     f.write(\"Myself Simran\\n\")\n",
        "lines_list = read_file_to_list(file_name)\n",
        "print(\"lines read from filr:\")\n",
        "print(lines_list)"
      ],
      "metadata": {
        "colab": {
          "base_uri": "https://localhost:8080/"
        },
        "id": "UlrK5TCQm0lI",
        "outputId": "a7e5cb7c-d2ec-4f60-b275-eafb20e484a8"
      },
      "execution_count": null,
      "outputs": [
        {
          "output_type": "stream",
          "name": "stdout",
          "text": [
            "lines read from filr:\n",
            "['Hii everyone!', 'How are you guyzz', 'Myself Simran']\n"
          ]
        }
      ]
    },
    {
      "cell_type": "code",
      "source": [
        "#10 How can you append data to an existing file in python ?\n",
        "def append_to_file(filename, text):\n",
        "  try:\n",
        "    with open(filename, 'a') as file:\n",
        "          file.write(text + '\\n')\n",
        "  except Exception as e:\n",
        "      print(f\"An error occurred: {e}\")\n",
        "file_name = \"myfile.txt\"\n",
        "with open(file_name, 'w') as f:\n",
        "     f.write(\"Hii Guyzzz 1\\n\")\n",
        "     f.write(\"myself Jassimran kaur 2\\n\")\n",
        "append_to_file(file_name, \"Appended line 1\")\n",
        "append_to_file(file_name, \"Appended line 2\")\n",
        "print(\"\\nFinal contents of the file:\")\n",
        "with open(file_name, 'r') as f:\n",
        "     for line in f:\n",
        "      print(line.strip())"
      ],
      "metadata": {
        "colab": {
          "base_uri": "https://localhost:8080/"
        },
        "id": "D7uzTeCep-i7",
        "outputId": "6b782b01-f4be-453f-c216-671dc42b5d35"
      },
      "execution_count": null,
      "outputs": [
        {
          "output_type": "stream",
          "name": "stdout",
          "text": [
            "\n",
            "Final contents of the file:\n",
            "Hii Guyzzz 1\n",
            "myself Jassimran kaur 2\n",
            "Appended line 1\n",
            "Appended line 2\n"
          ]
        }
      ]
    },
    {
      "cell_type": "code",
      "source": [
        "#11 Write a python program that uses a try except block to handle an error when attempting to access a dictionary key that does not exist\n",
        "def get_value_from_dict(data_dict, key):\n",
        "    try:\n",
        "        value = data_dict[key]\n",
        "        print(f\"Value for'{key}': {value}\")\n",
        "    except KeyError:\n",
        "        print(f\"Error: The key '{key}'does not exist in the dictionary.\")\n",
        "student_info = {\"name\": \"Simran\", \"age\": 17, \"grade\": 12}\n",
        "get_value_from_dict(student_info, \"name\")\n",
        "get_value_from_dict(student_info, \"grade\")"
      ],
      "metadata": {
        "colab": {
          "base_uri": "https://localhost:8080/"
        },
        "id": "PvPkplGfsnl1",
        "outputId": "10507a34-5d39-463b-c8d9-3228c3ccd2d5"
      },
      "execution_count": null,
      "outputs": [
        {
          "output_type": "stream",
          "name": "stdout",
          "text": [
            "Value for'name': Simran\n",
            "Value for'grade': 12\n"
          ]
        }
      ]
    },
    {
      "cell_type": "code",
      "source": [
        "#12 Write a program that demonstrates using multiple except blocks to handle different types of exceptions\n",
        "def divide_and_access_element(num1, num2, index):\n",
        "    try:\n",
        "        result = num1 / num2\n",
        "        print(f\"Division result: {result}\")\n",
        "        my_list = [10,20,30]\n",
        "        print(f\"Element at index {index}: {my_list[index]}\")\n",
        "    except ZeroDivisionError:\n",
        "        print(\"Error: Division by zero is not allowed.\")\n",
        "    except IndexError:\n",
        "        print(f\"Error: Index {index} is out of range.\")\n",
        "    except Exception as e:\n",
        "        print(f\"An unexpected error occured: {e}\")\n",
        "print(\"---- Example1: ZeroDivisionError ----\")\n",
        "divide_and_access_element(10,0,1)\n",
        "print(\"\\n---- Example 2: IndexError ----\")\n",
        "divide_and_access_element(10,2,5)\n",
        "print(\"\\n---- Example 3: No Error ----\")\n",
        "\n",
        "\n"
      ],
      "metadata": {
        "colab": {
          "base_uri": "https://localhost:8080/"
        },
        "id": "llANHrmFwywi",
        "outputId": "9dc0e291-83e2-48fa-f4d6-b2fbfd144912"
      },
      "execution_count": null,
      "outputs": [
        {
          "output_type": "stream",
          "name": "stdout",
          "text": [
            "---- Example1: ZeroDivisionError ----\n",
            "Error: Division by zero is not allowed.\n",
            "\n",
            "---- Example 2: IndexError ----\n",
            "Division result: 5.0\n",
            "Error: Index 5 is out of range.\n",
            "\n",
            "---- Example 3: No Error ----\n"
          ]
        }
      ]
    },
    {
      "cell_type": "code",
      "source": [
        "#13 How would you check if a file exists before attempting to read in python ?\n",
        "import os\n",
        "file_name = \"example.txt\"\n",
        "with open(file_name, 'w') as f:\n",
        "     f.write(\"Hello, this is a test file.\\n\")\n",
        "     f.write(\"it has multiple lines.\\n\")\n",
        "     f.write(\"This is the last line.\")\n",
        "if os.path.exists(file_name):\n",
        "    with open(file_name, 'r') as f:\n",
        "        content = f.read()\n",
        "        print(\"File content:\")\n",
        "        print(content)\n",
        "else:\n",
        "     print(f\"Error: the file '{file_name}' does not exist.\")\n"
      ],
      "metadata": {
        "colab": {
          "base_uri": "https://localhost:8080/"
        },
        "id": "vc6dbIyBzXGD",
        "outputId": "3653af58-4fe3-4684-99b2-98970be478be"
      },
      "execution_count": null,
      "outputs": [
        {
          "output_type": "stream",
          "name": "stdout",
          "text": [
            "File content:\n",
            "Hello, this is a test file.\n",
            "it has multiple lines.\n",
            "This is the last line.\n"
          ]
        }
      ]
    },
    {
      "cell_type": "code",
      "source": [
        "#14 Write a program that uses the logging module to log both informational and error messages\n",
        "import logging\n",
        "logging.basicConfig(filename='app.log', level=logging.INFO,format='%(asctime)s - %(levelname)s - %(message)s')\n",
        "def login(username, password):\n",
        "    logging.info(f\"Login attemptfor user: {username}\")\n",
        "    if username == \"admin\" and password == \"secret\":\n",
        "       logging.info(\"Login successful.\")\n",
        "       return True\n",
        "    else:\n",
        "         logging.error(\"Login failed: Invalid username or password.\")\n",
        "         return False\n",
        "login(\"admin\", \"secret\")\n",
        "login(\"admin\", \"wrongpass\")"
      ],
      "metadata": {
        "colab": {
          "base_uri": "https://localhost:8080/"
        },
        "id": "kMDKaScn1yXD",
        "outputId": "43759765-496d-4600-d7ef-a27c7dd3b057"
      },
      "execution_count": null,
      "outputs": [
        {
          "output_type": "stream",
          "name": "stderr",
          "text": [
            "ERROR:root:Login failed: Invalid username or password.\n",
            "ERROR: Login failed: Invalid username or password.\n"
          ]
        },
        {
          "output_type": "execute_result",
          "data": {
            "text/plain": [
              "False"
            ]
          },
          "metadata": {},
          "execution_count": 78
        }
      ]
    },
    {
      "cell_type": "code",
      "source": [
        "#15 Write a python program that prints the content of a file and handles the case when the file is empty\n",
        "def read_and_print_file(filename):\n",
        "  try:\n",
        "    with open(filename, 'r') as file:\n",
        "      content = file.read()\n",
        "      if content.strip():\n",
        "        print(f\"The file '{filename}' is empty:\")\n",
        "      else:\n",
        "        print(f\"Contents of '{filename}' :\\n\")\n",
        "        print(content)\n",
        "  except FileNotFoundError:\n",
        "    print(f\"Error: The file '{filename}' was not found.\")\n",
        "  except IOError as e:\n",
        "    print(f\"An I/O error occurred: {e}\")\n",
        "if __name__ == \"__main__\":\n",
        "     with open(\"example_non_empty.txt\", \"w\") as f:\n",
        "      f.write(\"Hello, world!\\nThis is a test file.\")\n",
        "      print(\"=== Reading non-empty file ===\")\n",
        "      read_and_print_file(\"example_non_empty.txt\")\n",
        "      print(\"\\n=== Reading empty file ===\")\n",
        "      read_and_print_file(\"example_non_empty.txt\")\n",
        "print(\"\\n-----------------------------------\\n\")"
      ],
      "metadata": {
        "colab": {
          "base_uri": "https://localhost:8080/"
        },
        "id": "UCWYUUIV353R",
        "outputId": "b0bd9729-3670-497e-89c6-c253c93c681e"
      },
      "execution_count": null,
      "outputs": [
        {
          "output_type": "stream",
          "name": "stdout",
          "text": [
            "=== Reading non-empty file ===\n",
            "Contents of 'example_non_empty.txt' :\n",
            "\n",
            "\n",
            "\n",
            "=== Reading empty file ===\n",
            "Contents of 'example_non_empty.txt' :\n",
            "\n",
            "\n",
            "\n",
            "-----------------------------------\n",
            "\n"
          ]
        }
      ]
    },
    {
      "cell_type": "code",
      "source": [
        "#16 Demonstrate how to use memory profiling to check the memory usage os a small program\n",
        "!pip install memory-profiler\n",
        "from memory_profiler import profile\n",
        "def create_large_list():\n",
        "    print(\"Creating a large list...\")\n",
        "    a = [i for i in range(1000000)]\n",
        "    b = [i * 2 for i in range(1000000)]\n",
        "    print(\"finished creating lists.\")\n",
        "    return a,b\n",
        "def main():\n",
        "    print(\"starting main function\")\n",
        "    result = create_large_list()\n",
        "    print(\"Main function completed\")\n",
        "    return result\n",
        "if __name__ == \"__main__\":\n",
        "      main()"
      ],
      "metadata": {
        "colab": {
          "base_uri": "https://localhost:8080/"
        },
        "id": "IyV-4pG47E_T",
        "outputId": "b3f2fc8e-448b-44ae-9184-e34e3b50a7af"
      },
      "execution_count": null,
      "outputs": [
        {
          "output_type": "stream",
          "name": "stdout",
          "text": [
            "Collecting memory-profiler\n",
            "  Downloading memory_profiler-0.61.0-py3-none-any.whl.metadata (20 kB)\n",
            "Requirement already satisfied: psutil in /usr/local/lib/python3.11/dist-packages (from memory-profiler) (5.9.5)\n",
            "Downloading memory_profiler-0.61.0-py3-none-any.whl (31 kB)\n",
            "Installing collected packages: memory-profiler\n",
            "Successfully installed memory-profiler-0.61.0\n",
            "starting main function\n",
            "Creating a large list...\n",
            "finished creating lists.\n",
            "Main function completed\n"
          ]
        }
      ]
    },
    {
      "cell_type": "code",
      "source": [
        "#17 Write a python program to create and write a list of numbers to a file, one numbers per line\n",
        "numbers = [10,20,30,40,50]\n",
        "with open('numbers.txt', 'w') as file:\n",
        "  for number in numbers:\n",
        "      file.write(str(number) + '\\n')\n",
        "print(\"numbers have been written to 'numbers.txt'.\")"
      ],
      "metadata": {
        "colab": {
          "base_uri": "https://localhost:8080/"
        },
        "id": "LuvEOJiu-bSf",
        "outputId": "8cca71f5-752e-4b8e-b5e2-d77a3fd0c4c4"
      },
      "execution_count": null,
      "outputs": [
        {
          "output_type": "stream",
          "name": "stdout",
          "text": [
            "numbers have been written to 'numbers.txt'.\n"
          ]
        }
      ]
    },
    {
      "cell_type": "code",
      "source": [
        "#18 How would you implement a basic logging setup that logs to a file with rotation after 1MB\n",
        "import logging\n",
        "from logging.handlers import RotatingFileHandler\n",
        "logger = logging.grtLogger('my_logger')\n",
        "logger.setLevel(logging.INFO)\n",
        "handler = RotatingFileHandle('my_log.log' maxBytes=1 * 1024 * 1024 backupCount=3))"
      ],
      "metadata": {
        "colab": {
          "base_uri": "https://localhost:8080/",
          "height": 111
        },
        "id": "4RrV6ikt_9Jg",
        "outputId": "d0919239-1bc9-476a-b015-93eb3c63787a"
      },
      "execution_count": null,
      "outputs": [
        {
          "output_type": "error",
          "ename": "SyntaxError",
          "evalue": "unmatched ')' (<ipython-input-92-5efe992379c4>, line 6)",
          "traceback": [
            "\u001b[0;36m  File \u001b[0;32m\"<ipython-input-92-5efe992379c4>\"\u001b[0;36m, line \u001b[0;32m6\u001b[0m\n\u001b[0;31m    handler = RotatingFileHandle('my_log.log' maxBytes=1 * 1024 * 1024 backupCount=3))\u001b[0m\n\u001b[0m                                                                                     ^\u001b[0m\n\u001b[0;31mSyntaxError\u001b[0m\u001b[0;31m:\u001b[0m unmatched ')'\n"
          ]
        }
      ]
    }
  ]
}